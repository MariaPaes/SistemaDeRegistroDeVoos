{
  "nbformat": 4,
  "nbformat_minor": 0,
  "metadata": {
    "colab": {
      "provenance": []
    },
    "kernelspec": {
      "name": "python3",
      "display_name": "Python 3"
    },
    "language_info": {
      "name": "python"
    }
  },
  "cells": [
    {
      "cell_type": "code",
      "execution_count": null,
      "metadata": {
        "id": "AFp60ziu7Y97",
        "colab": {
          "base_uri": "https://localhost:8080/"
        },
        "outputId": "09620e91-d92c-4999-a806-b10023543a78"
      },
      "outputs": [
        {
          "output_type": "stream",
          "name": "stdout",
          "text": [
            "Insira seu nome: jkl\n",
            "O passaporte possui foto legivel e autenticada do cidadão?s\n",
            "O código de identificação é  939\n",
            "\n",
            "Insira sua ilha de origem: jhkl\n",
            "\n",
            "\n",
            "Insira o número do tipo de voo que deseja: \n",
            " 1 - Voo expresso\n",
            " 2 - Voo agendado \n",
            "2\n",
            "Insira a data que deseja viajar: 02.03.2024\n",
            "Insira a hora que deseja viajar: 15H\n",
            "Parabéns! Seu voo agendade foi registrado com sucesso para o dia e hora 02.03.2024 15H ! \n"
          ]
        }
      ],
      "source": [
        "import random\n",
        "from datetime import datetime\n",
        "\n",
        "class Voo:\n",
        "    def __init__(self, nomePassaporte, ilhaOrigem, ilhaDestino):\n",
        "        self.nomePassaporte = nomePassaporte\n",
        "        self.ilhaOrigem = ilhaOrigem\n",
        "        self.ilhaDestino = ilhaDestino\n",
        "        self.passaporte()\n",
        "\n",
        "    def passaporte(self):\n",
        "        nomePassaporte = input(\"Insira seu nome: \")\n",
        "        foto = input(\"O passaporte possui foto legivel e autenticada do cidadão?\")\n",
        "        if foto == 'sim' or foto == 's':\n",
        "          id = random.randint(100, 1000)\n",
        "          print(\"O código de identificação é \", id)\n",
        "          ilhaOrigem = input(\"\\nInsira sua ilha de origem: \")\n",
        "          self.tipoVoo()\n",
        "\n",
        "        else:\n",
        "          print(\"Passaporte Inválido!\")\n",
        "\n",
        "    def tipoVoo(self):\n",
        "      while True:\n",
        "        tipoVoo = int(input(\"\\n\\nInsira o número do tipo de voo que deseja: \\n 1 - Voo expresso\\n 2 - Voo agendado \\n\"))\n",
        "        try:\n",
        "          if tipoVoo == 1:\n",
        "            data_atual  = datetime.now()\n",
        "            print(\"Parabéns! Seu voo expresso foi registrado com sucesso para o dia e hora\", data_atual , \"! \")\n",
        "            break\n",
        "          elif tipoVoo == 2:\n",
        "            data = input(\"Insira a data que deseja viajar: \")\n",
        "            hora = input(\"Insira a hora que deseja viajar: \")\n",
        "            print(\"Parabéns! Seu voo agendade foi registrado com sucesso para o dia e hora\", data, hora , \"! \")\n",
        "            break\n",
        "          else:\n",
        "            print(\"Entrada inválida. Por favor, escolha 1 ou 2.\")\n",
        "        except ValueError:\n",
        "          print(\"Entrada inválida. Por favor, escolha 1 ou 2.\")\n",
        "\n",
        "\n",
        "\n",
        "passageiroTeste = Voo(\"Maria Clara\", \"Fernando de Noronha\", \"Itamaraca\")\n"
      ]
    }
  ]
}